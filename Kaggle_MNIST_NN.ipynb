{
 "cells": [
  {
   "cell_type": "code",
   "execution_count": 1,
   "metadata": {},
   "outputs": [
    {
     "name": "stderr",
     "output_type": "stream",
     "text": [
      "/anaconda3/lib/python3.5/importlib/_bootstrap.py:222: RuntimeWarning: compiletime version 3.6 of module 'tensorflow.python.framework.fast_tensor_util' does not match runtime version 3.5\n",
      "  return f(*args, **kwds)\n"
     ]
    }
   ],
   "source": [
    "import numpy as np\n",
    "import pandas as pd\n",
    "from sklearn.model_selection import train_test_split\n",
    "from tensorflow.python import keras\n",
    "from tensorflow.python.keras.models import Sequential\n",
    "from tensorflow.python.keras.layers import Dense, Flatten, Conv2D, Dropout,MaxPool2D"
   ]
  },
  {
   "cell_type": "code",
   "execution_count": 2,
   "metadata": {},
   "outputs": [],
   "source": [
    "img_rows, img_cols = 28, 28\n",
    "num_classes = 10\n",
    "\n",
    "def train_prep(raw):\n",
    "    out_y = keras.utils.to_categorical(raw.label, num_classes)\n",
    "    num_images = raw.shape[0]\n",
    "    x_as_array = raw.values[:,1:]\n",
    "    x_shaped_array = x_as_array.reshape(num_images, img_rows, img_cols, 1)\n",
    "    out_x = x_shaped_array / 255\n",
    "    return out_x, out_y\n",
    "\n",
    "def test_prep(raw):\n",
    "    num_images = raw.shape[0]\n",
    "    x_as_array = raw.values\n",
    "    x_shaped_array = x_as_array.reshape(num_images, img_rows, img_cols, 1)\n",
    "    out_x = x_shaped_array / 255\n",
    "    return out_x\n",
    "\n",
    "train_file = \"data/train.csv\"\n",
    "test_file=\"data/test.csv\""
   ]
  },
  {
   "cell_type": "code",
   "execution_count": 3,
   "metadata": {},
   "outputs": [
    {
     "name": "stdout",
     "output_type": "stream",
     "text": [
      "Epoch 1/30\n",
      "42000/42000 [==============================] - 96s 2ms/step - loss: 0.3233 - acc: 0.8981\n",
      "Epoch 2/30\n",
      "42000/42000 [==============================] - 91s 2ms/step - loss: 0.0983 - acc: 0.9696\n",
      "Epoch 3/30\n",
      "42000/42000 [==============================] - 92s 2ms/step - loss: 0.0720 - acc: 0.9776\n",
      "Epoch 4/30\n",
      "42000/42000 [==============================] - 86s 2ms/step - loss: 0.0574 - acc: 0.9818\n",
      "Epoch 5/30\n",
      "42000/42000 [==============================] - 97s 2ms/step - loss: 0.0513 - acc: 0.9841\n",
      "Epoch 6/30\n",
      "42000/42000 [==============================] - 90s 2ms/step - loss: 0.0427 - acc: 0.9865\n",
      "Epoch 7/30\n",
      "42000/42000 [==============================] - 88s 2ms/step - loss: 0.0381 - acc: 0.9872\n",
      "Epoch 8/30\n",
      "42000/42000 [==============================] - 92s 2ms/step - loss: 0.0360 - acc: 0.9885\n",
      "Epoch 9/30\n",
      "42000/42000 [==============================] - 91s 2ms/step - loss: 0.0311 - acc: 0.9907\n",
      "Epoch 10/30\n",
      "42000/42000 [==============================] - 91s 2ms/step - loss: 0.0301 - acc: 0.9903\n",
      "Epoch 11/30\n",
      "42000/42000 [==============================] - 92s 2ms/step - loss: 0.0302 - acc: 0.9902\n",
      "Epoch 12/30\n",
      "42000/42000 [==============================] - 93s 2ms/step - loss: 0.0258 - acc: 0.9911\n",
      "Epoch 13/30\n",
      "42000/42000 [==============================] - 98s 2ms/step - loss: 0.0246 - acc: 0.9921\n",
      "Epoch 14/30\n",
      "42000/42000 [==============================] - 93s 2ms/step - loss: 0.0236 - acc: 0.9925\n",
      "Epoch 15/30\n",
      "42000/42000 [==============================] - 98s 2ms/step - loss: 0.0236 - acc: 0.9920\n",
      "Epoch 16/30\n",
      "42000/42000 [==============================] - 95s 2ms/step - loss: 0.0214 - acc: 0.9930\n",
      "Epoch 17/30\n",
      "42000/42000 [==============================] - 93s 2ms/step - loss: 0.0198 - acc: 0.9934\n",
      "Epoch 18/30\n",
      "42000/42000 [==============================] - 98s 2ms/step - loss: 0.0192 - acc: 0.9938\n",
      "Epoch 19/30\n",
      "42000/42000 [==============================] - 87s 2ms/step - loss: 0.0176 - acc: 0.9943\n",
      "Epoch 20/30\n",
      "42000/42000 [==============================] - 90s 2ms/step - loss: 0.0163 - acc: 0.9947\n",
      "Epoch 21/30\n",
      "42000/42000 [==============================] - 95s 2ms/step - loss: 0.0168 - acc: 0.9947\n",
      "Epoch 22/30\n",
      "42000/42000 [==============================] - 88s 2ms/step - loss: 0.0161 - acc: 0.9949\n",
      "Epoch 23/30\n",
      "42000/42000 [==============================] - 91s 2ms/step - loss: 0.0158 - acc: 0.9953\n",
      "Epoch 24/30\n",
      "42000/42000 [==============================] - 91s 2ms/step - loss: 0.0153 - acc: 0.9952\n",
      "Epoch 25/30\n",
      "42000/42000 [==============================] - 108s 3ms/step - loss: 0.0141 - acc: 0.9953\n",
      "Epoch 26/30\n",
      "42000/42000 [==============================] - 105s 2ms/step - loss: 0.0145 - acc: 0.9954\n",
      "Epoch 27/30\n",
      "42000/42000 [==============================] - 107s 3ms/step - loss: 0.0135 - acc: 0.9954\n",
      "Epoch 28/30\n",
      "42000/42000 [==============================] - 105s 2ms/step - loss: 0.0139 - acc: 0.9957\n",
      "Epoch 29/30\n",
      "42000/42000 [==============================] - 97s 2ms/step - loss: 0.0128 - acc: 0.9957\n",
      "Epoch 30/30\n",
      "42000/42000 [==============================] - 93s 2ms/step - loss: 0.0135 - acc: 0.9956\n"
     ]
    },
    {
     "data": {
      "text/plain": [
       "<tensorflow.python.keras._impl.keras.callbacks.History at 0x1a4949ccf8>"
      ]
     },
     "execution_count": 3,
     "metadata": {},
     "output_type": "execute_result"
    }
   ],
   "source": [
    "test_data = pd.read_csv(test_file)\n",
    "x_test = test_prep(test_data)\n",
    "\n",
    "train_data = pd.read_csv(train_file)\n",
    "x, y = train_prep(train_data)\n",
    "\n",
    "\n",
    "\n",
    "model = Sequential()\n",
    "model.add(Conv2D(20, kernel_size=(3, 3),\n",
    "                 activation='relu',\n",
    "                 input_shape=(img_rows, img_cols, 1)))\n",
    "model.add(Conv2D(20, kernel_size=(3, 3),\n",
    "                 activation='relu',\n",
    "                 input_shape=(img_rows, img_cols, 1)))\n",
    "model.add(MaxPool2D(pool_size=(2,2), strides=(1,1)))\n",
    "model.add(Dropout(0.25))\n",
    "model.add(Conv2D(20, kernel_size=(3, 3),\n",
    "                 activation='relu',\n",
    "                 input_shape=(img_rows, img_cols, 1)))\n",
    "model.add(Conv2D(20, kernel_size=(3, 3),\n",
    "                 activation='relu',\n",
    "                 input_shape=(img_rows, img_cols, 1)))\n",
    "model.add(MaxPool2D(pool_size=(2,2), strides=(2,2)))\n",
    "model.add(Dropout(0.25))\n",
    "model.add(Flatten())\n",
    "model.add(Dense(256, activation='relu'))\n",
    "model.add(Dropout(0.5))\n",
    "model.add(Dense(num_classes, activation='softmax'))\n",
    "\n",
    "model.compile(loss=keras.losses.categorical_crossentropy,\n",
    "              optimizer='adam',\n",
    "              metrics=['accuracy'])\n",
    "model.fit(x, y,\n",
    "          batch_size=100,\n",
    "          epochs=30)"
   ]
  },
  {
   "cell_type": "code",
   "execution_count": 4,
   "metadata": {},
   "outputs": [],
   "source": [
    "results = model.predict(x_test)"
   ]
  },
  {
   "cell_type": "code",
   "execution_count": 5,
   "metadata": {},
   "outputs": [],
   "source": [
    "results = np.argmax(results,axis = 1)"
   ]
  },
  {
   "cell_type": "code",
   "execution_count": 6,
   "metadata": {},
   "outputs": [],
   "source": [
    "results = pd.Series(results,name=\"Label\")"
   ]
  },
  {
   "cell_type": "code",
   "execution_count": 7,
   "metadata": {},
   "outputs": [
    {
     "data": {
      "text/plain": [
       "28000"
      ]
     },
     "execution_count": 7,
     "metadata": {},
     "output_type": "execute_result"
    }
   ],
   "source": [
    "len(results)"
   ]
  },
  {
   "cell_type": "code",
   "execution_count": 8,
   "metadata": {},
   "outputs": [],
   "source": [
    "submission = pd.concat([pd.Series(range(1,28001),name = \"ImageId\"),results],axis = 1)"
   ]
  },
  {
   "cell_type": "code",
   "execution_count": 9,
   "metadata": {},
   "outputs": [],
   "source": [
    "submission.to_csv(\"keras_nn_best_score.csv\",index=False)"
   ]
  },
  {
   "cell_type": "code",
   "execution_count": null,
   "metadata": {},
   "outputs": [],
   "source": []
  }
 ],
 "metadata": {
  "kernelspec": {
   "display_name": "Python 3",
   "language": "python",
   "name": "python3"
  },
  "language_info": {
   "codemirror_mode": {
    "name": "ipython",
    "version": 3
   },
   "file_extension": ".py",
   "mimetype": "text/x-python",
   "name": "python",
   "nbconvert_exporter": "python",
   "pygments_lexer": "ipython3",
   "version": "3.5.5"
  }
 },
 "nbformat": 4,
 "nbformat_minor": 2
}
